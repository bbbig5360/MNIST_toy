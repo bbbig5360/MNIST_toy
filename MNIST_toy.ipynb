{
 "cells": [
  {
   "cell_type": "code",
   "execution_count": 2,
   "metadata": {},
   "outputs": [],
   "source": [
    "import tensorflow as tf\n",
    "from tensorflow import keras\n",
    "from tensorflow.keras import layers\n",
    "from keras.datasets import mnist\n",
    "import matplotlib.pyplot as plt\n",
    "from keras.utils import np_utils\n",
    "import cv2\n",
    "import numpy as np"
   ]
  },
  {
   "cell_type": "code",
   "execution_count": 297,
   "metadata": {},
   "outputs": [],
   "source": [
    "(X_train, y_train), (X_test, y_test) = mnist.load_data()"
   ]
  },
  {
   "cell_type": "code",
   "execution_count": 214,
   "metadata": {},
   "outputs": [
    {
     "name": "stdout",
     "output_type": "stream",
     "text": [
      "(10000, 784) (60000, 784)\n"
     ]
    }
   ],
   "source": [
    "''' 1차원으로 만들어서 실행할 때 '''\n",
    "X_train = X_train.reshape(-1,28*28)\n",
    "X_test = X_test.reshape(-1,28*28)\n",
    "print( X_test.shape, X_train.shape )"
   ]
  },
  {
   "cell_type": "code",
   "execution_count": 298,
   "metadata": {},
   "outputs": [],
   "source": [
    "X_train = X_train / 255.0\n",
    "X_test = X_test / 255.0"
   ]
  },
  {
   "cell_type": "code",
   "execution_count": 299,
   "metadata": {},
   "outputs": [
    {
     "name": "stdout",
     "output_type": "stream",
     "text": [
      "(10000, 28, 28, 1) (60000, 28, 28, 1)\n"
     ]
    }
   ],
   "source": [
    "''' 3차원으로 만들어서 실행할 때 '''\n",
    "X_train = np.expand_dims( X_train, axis=0 ).reshape(-1,28,28,1)\n",
    "X_test = np.expand_dims( X_test, axis=0 ).reshape(-1,28,28,1)\n",
    "print( X_test.shape, X_train.shape )"
   ]
  },
  {
   "cell_type": "code",
   "execution_count": 300,
   "metadata": {},
   "outputs": [],
   "source": [
    "y_train = np_utils.to_categorical(y_train,10)\n",
    "y_test = np_utils.to_categorical(y_test,10)"
   ]
  },
  {
   "cell_type": "code",
   "execution_count": 302,
   "metadata": {},
   "outputs": [
    {
     "data": {
      "image/png": "[encoded data removed]",
      "text/plain": [
       "<Figure size 432x288 with 1 Axes>"
      ]
     },
     "metadata": {
      "needs_background": "light"
     },
     "output_type": "display_data"
    },
    {
     "data": {
      "text/plain": [
       "6"
      ]
     },
     "execution_count": 302,
     "metadata": {},
     "output_type": "execute_result"
    }
   ],
   "source": [
    "plt.imshow(X_train[13])\n",
    "plt.show()\n",
    "y_train[13].argmax(axis = 0)"
   ]
  },
  {
   "cell_type": "code",
   "execution_count": null,
   "metadata": {},
   "outputs": [],
   "source": [
    "plt.imshow(X_train[13].reshape(28,28))\n",
    "plt.show()\n",
    "y_train[13].argmax(axis = 0)"
   ]
  },
  {
   "cell_type": "code",
   "execution_count": 303,
   "metadata": {},
   "outputs": [
    {
     "name": "stdout",
     "output_type": "stream",
     "text": [
      "Model: \"sequential_23\"\n",
      "_________________________________________________________________\n",
      " Layer (type)                Output Shape              Param #   \n",
      "=================================================================\n",
      " conv2d_11 (Conv2D)          (None, 26, 26, 32)        320       \n",
      "                                                                 \n",
      " dropout_20 (Dropout)        (None, 26, 26, 32)        0         \n",
      "                                                                 \n",
      " conv2d_12 (Conv2D)          (None, 24, 24, 32)        9248      \n",
      "                                                                 \n",
      " dropout_21 (Dropout)        (None, 24, 24, 32)        0         \n",
      "                                                                 \n",
      " conv2d_13 (Conv2D)          (None, 22, 22, 32)        9248      \n",
      "                                                                 \n",
      " flatten_3 (Flatten)         (None, 15488)             0         \n",
      "                                                                 \n",
      " dense_63 (Dense)            (None, 128)               1982592   \n",
      "                                                                 \n",
      " dense_64 (Dense)            (None, 10)                1290      \n",
      "                                                                 \n",
      "=================================================================\n",
      "Total params: 2,002,698\n",
      "Trainable params: 2,002,698\n",
      "Non-trainable params: 0\n",
      "_________________________________________________________________\n"
     ]
    }
   ],
   "source": [
    "# 3차원 모델\n",
    "def ThreeDimensionModel():\n",
    "    new2DModel = keras.Sequential([\n",
    "        layers.Conv2D(32, (3,3), activation=layers.LeakyReLU(alpha=0.1), input_shape = (28,28,1) ),\n",
    "        layers.Dropout(0.05),\n",
    "        layers.Conv2D(32, (3,3), activation=layers.LeakyReLU(alpha=0.1)),\n",
    "        layers.Dropout(0.05),\n",
    "        layers.Conv2D(32, (3,3), activation=layers.LeakyReLU(alpha=0.1)),\n",
    "        layers.Flatten(),\n",
    "        layers.Dense(128, activation=layers.LeakyReLU(alpha=0.1)),\n",
    "        layers.Dense(10, activation='softmax')\n",
    "    ])\n",
    "    new2DModel.compile(optimizer='adam', loss='categorical_crossentropy', metrics=['accuracy'])\n",
    "    new2DModel.summary()"
   ]
  },
  {
   "cell_type": "markdown",
   "metadata": {},
   "source": []
  },
  {
   "cell_type": "code",
   "execution_count": 304,
   "metadata": {},
   "outputs": [
    {
     "name": "stdout",
     "output_type": "stream",
     "text": [
      "Epoch 1/10\n",
      "1875/1875 [==============================] - 74s 40ms/step - loss: 0.1097 - accuracy: 0.9663\n",
      "Epoch 2/10\n",
      "1875/1875 [==============================] - 76s 40ms/step - loss: 0.0412 - accuracy: 0.9872\n",
      "Epoch 3/10\n",
      "1875/1875 [==============================] - 76s 41ms/step - loss: 0.0284 - accuracy: 0.9910\n",
      "Epoch 4/10\n",
      "1875/1875 [==============================] - 77s 41ms/step - loss: 0.0207 - accuracy: 0.9935\n",
      "Epoch 5/10\n",
      "1875/1875 [==============================] - 76s 40ms/step - loss: 0.0165 - accuracy: 0.9946\n",
      "Epoch 6/10\n",
      "1875/1875 [==============================] - 76s 41ms/step - loss: 0.0150 - accuracy: 0.9951\n",
      "Epoch 7/10\n",
      "1875/1875 [==============================] - 77s 41ms/step - loss: 0.0121 - accuracy: 0.9961\n",
      "Epoch 8/10\n",
      "1875/1875 [==============================] - 82s 44ms/step - loss: 0.0096 - accuracy: 0.9966\n",
      "Epoch 9/10\n",
      "1875/1875 [==============================] - 80s 42ms/step - loss: 0.0096 - accuracy: 0.9972\n",
      "Epoch 10/10\n",
      "1875/1875 [==============================] - 79s 42ms/step - loss: 0.0112 - accuracy: 0.9970\n"
     ]
    },
    {
     "data": {
      "text/plain": [
       "<keras.callbacks.History at 0x1f9fafacb20>"
      ]
     },
     "execution_count": 304,
     "metadata": {},
     "output_type": "execute_result"
    }
   ],
   "source": [
    "new2DModel.fit(X_train, y_train, epochs=10)"
   ]
  },
  {
   "cell_type": "code",
   "execution_count": 341,
   "metadata": {},
   "outputs": [
    {
     "name": "stdout",
     "output_type": "stream",
     "text": [
      "313/313 [==============================] - 2s 5ms/step - loss: 0.0462 - accuracy: 0.9902\n"
     ]
    },
    {
     "data": {
      "text/plain": [
       "[0.04619140177965164, 0.9901999831199646]"
      ]
     },
     "execution_count": 341,
     "metadata": {},
     "output_type": "execute_result"
    }
   ],
   "source": [
    "new2DModel.evaluate(X_test, y_test)"
   ]
  },
  {
   "cell_type": "code",
   "execution_count": 226,
   "metadata": {},
   "outputs": [
    {
     "name": "stdout",
     "output_type": "stream",
     "text": [
      "Model: \"sequential_16\"\n",
      "_________________________________________________________________\n",
      " Layer (type)                Output Shape              Param #   \n",
      "=================================================================\n",
      " dense_43 (Dense)            (None, 128)               100480    \n",
      "                                                                 \n",
      " dropout_8 (Dropout)         (None, 128)               0         \n",
      "                                                                 \n",
      " dense_44 (Dense)            (None, 256)               33024     \n",
      "                                                                 \n",
      " dropout_9 (Dropout)         (None, 256)               0         \n",
      "                                                                 \n",
      " dense_45 (Dense)            (None, 256)               65792     \n",
      "                                                                 \n",
      " dropout_10 (Dropout)        (None, 256)               0         \n",
      "                                                                 \n",
      " dense_46 (Dense)            (None, 256)               65792     \n",
      "                                                                 \n",
      " dense_47 (Dense)            (None, 10)                2570      \n",
      "                                                                 \n",
      "=================================================================\n",
      "Total params: 267,658\n",
      "Trainable params: 267,658\n",
      "Non-trainable params: 0\n",
      "_________________________________________________________________\n"
     ]
    }
   ],
   "source": [
    "# 1차원으로 변경해서 만든 모델\n",
    "def oneDimensionModel():\n",
    "   toyModel = keras.Sequential([\n",
    "      layers.Dense(input_dim = 28*28, units=128, activation=layers.LeakyReLU(alpha=0.1)),\n",
    "      layers.Dropout(0.05),\n",
    "      layers.Dense(256, activation=layers.LeakyReLU(alpha=0.1)),\n",
    "      layers.Dropout(0.05),\n",
    "      layers.Dense(256, activation=layers.LeakyReLU(alpha=0.1)),\n",
    "      layers.Dropout(0.05),\n",
    "      layers.Dense(256, activation=layers.LeakyReLU(alpha=0.1)),\n",
    "      layers.Dense(10, activation='softmax')\n",
    "   ])\n",
    "   toyModel.compile(optimizer='adam', loss='categorical_crossentropy', metrics=['accuracy'])\n",
    "   toyModel.summary()\n",
    "   return toyModel\n"
   ]
  },
  {
   "cell_type": "code",
   "execution_count": 227,
   "metadata": {},
   "outputs": [
    {
     "name": "stdout",
     "output_type": "stream",
     "text": [
      "Epoch 1/10\n",
      "1875/1875 [==============================] - 3s 1ms/step - loss: 0.2435 - accuracy: 0.9245\n",
      "Epoch 2/10\n",
      "1875/1875 [==============================] - 3s 1ms/step - loss: 0.1220 - accuracy: 0.9632\n",
      "Epoch 3/10\n",
      "1875/1875 [==============================] - 2s 1ms/step - loss: 0.0967 - accuracy: 0.9697\n",
      "Epoch 4/10\n",
      "1875/1875 [==============================] - 3s 1ms/step - loss: 0.0799 - accuracy: 0.9750\n",
      "Epoch 5/10\n",
      "1875/1875 [==============================] - 3s 1ms/step - loss: 0.0696 - accuracy: 0.9787\n",
      "Epoch 6/10\n",
      "1875/1875 [==============================] - 3s 1ms/step - loss: 0.0620 - accuracy: 0.9812\n",
      "Epoch 7/10\n",
      "1875/1875 [==============================] - 3s 1ms/step - loss: 0.0542 - accuracy: 0.9831\n",
      "Epoch 8/10\n",
      "1875/1875 [==============================] - 3s 1ms/step - loss: 0.0500 - accuracy: 0.9846\n",
      "Epoch 9/10\n",
      "1875/1875 [==============================] - 3s 1ms/step - loss: 0.0477 - accuracy: 0.9857\n",
      "Epoch 10/10\n",
      "1875/1875 [==============================] - 3s 1ms/step - loss: 0.0460 - accuracy: 0.9859\n"
     ]
    },
    {
     "data": {
      "text/plain": [
       "<keras.callbacks.History at 0x1f9ef7feb20>"
      ]
     },
     "execution_count": 227,
     "metadata": {},
     "output_type": "execute_result"
    }
   ],
   "source": [
    "toyModel.fit(X_train, y_train, epochs=10)"
   ]
  },
  {
   "cell_type": "code",
   "execution_count": 228,
   "metadata": {},
   "outputs": [
    {
     "name": "stdout",
     "output_type": "stream",
     "text": [
      "313/313 [==============================] - 0s 728us/step - loss: 0.0880 - accuracy: 0.9778\n"
     ]
    },
    {
     "data": {
      "text/plain": [
       "[0.08796174824237823, 0.9778000116348267]"
      ]
     },
     "execution_count": 228,
     "metadata": {},
     "output_type": "execute_result"
    }
   ],
   "source": [
    "toyModel.evaluate(X_test, y_test)"
   ]
  },
  {
   "cell_type": "code",
   "execution_count": 4,
   "metadata": {},
   "outputs": [],
   "source": [
    "new2DModel = keras.models.load_model('2DModel.h5')"
   ]
  },
  {
   "cell_type": "code",
   "execution_count": 362,
   "metadata": {},
   "outputs": [
    {
     "name": "stdout",
     "output_type": "stream",
     "text": [
      "[0, 1, 2, 3, 4, 5, 6, 7, 8, 9]\n"
     ]
    }
   ],
   "source": [
    "'''1차원으로 만들어 확인하기'''\n",
    "answer = []\n",
    "for i in range(0,10):\n",
    "    # num_img = cv2.imread('realNumber'+str(i)+'.png')\n",
    "    # num_img = cv2.imread('handnumber/hand'+str(i)+'.png')\n",
    "    num_img = cv2.imread('new_test/'+str(i)+'.png')\n",
    "    input_img = cv2.cvtColor( cv2.resize(num_img, (28,28)), cv2.COLOR_BGR2GRAY )\n",
    "    input_img = input_img / 255.0\n",
    "    answer.append( toyModel.predict(input_img.reshape(-1,28*28)).argmax(axis=1)[0] )\n",
    "    \n",
    "print(answer)"
   ]
  },
  {
   "cell_type": "code",
   "execution_count": 542,
   "metadata": {},
   "outputs": [
    {
     "name": "stdout",
     "output_type": "stream",
     "text": [
      "[0, 3, 2, 3, 4, 5, 6, 7, 8, 9]\n"
     ]
    }
   ],
   "source": [
    "''' 3차원으로 만들어 테스트 '''\n",
    "answer = []\n",
    "for i in range(10):\n",
    "    # num_img = cv2.imread('handnumber/hand'+str(i)+'.png')\n",
    "    # num_img = cv2.imread('new_test/'+str(i)+'.png')\n",
    "    num_img = cv2.imread('computerNumber/realNumber'+str(i)+'.png')\n",
    "    input_img = cv2.cvtColor( cv2.resize(num_img, (28,28)), cv2.COLOR_BGR2GRAY )\n",
    "    input_img = input_img / 255.0\n",
    "\n",
    "    input_img = np.expand_dims(input_img, axis=0).reshape(-1,28,28,1)\n",
    "    answer.append(new2DModel.predict(input_img).argmax(axis=1)[0])\n",
    "print(answer)"
   ]
  },
  {
   "cell_type": "code",
   "execution_count": 6,
   "metadata": {},
   "outputs": [
    {
     "data": {
      "image/png": "[encoded data removed]",
      "text/plain": [
       "<Figure size 432x288 with 1 Axes>"
      ]
     },
     "metadata": {
      "needs_background": "light"
     },
     "output_type": "display_data"
    },
    {
     "name": "stdout",
     "output_type": "stream",
     "text": [
      "(26, 18)\n",
      "(26, 26)\n"
     ]
    },
    {
     "data": {
      "image/png": "[encoded data removed]",
      "text/plain": [
       "<Figure size 432x288 with 1 Axes>"
      ]
     },
     "metadata": {
      "needs_background": "light"
     },
     "output_type": "display_data"
    },
    {
     "data": {
      "image/png": "[encoded data removed]",
      "text/plain": [
       "<Figure size 432x288 with 1 Axes>"
      ]
     },
     "metadata": {
      "needs_background": "light"
     },
     "output_type": "display_data"
    },
    {
     "name": "stdout",
     "output_type": "stream",
     "text": [
      "[0]\n"
     ]
    }
   ],
   "source": [
    "sharp_kernel = np.array([[-1,-1,-1], [-1,9,-1], [-1,-1,-1]])\n",
    "\n",
    "def paddingImage(input_arr):\n",
    "    y = input_arr.shape[0]\n",
    "    x = input_arr.shape[1]\n",
    "    padding_val = abs(y-x) // 2\n",
    "\n",
    "    if x<y:        \n",
    "        trans_img = []\n",
    "        padding_arr = [0.0]*padding_val\n",
    "        try:\n",
    "            for i in range(y):\n",
    "                trans_img.append( padding_arr + list(input_arr[i]) + padding_arr )\n",
    "        except:\n",
    "            print('err',i)\n",
    "            print(input_arr)\n",
    "            print(np.array(trans_img).shape)\n",
    "        return np.array( trans_img )\n",
    "    return input_arr\n",
    "\n",
    "def Gausian_Sharp(input_arr, sigma):\n",
    "    input_arr = cv2.GaussianBlur(input_arr, (0,0), sigma)\n",
    "    input_arr = cv2.filter2D(input_arr, -1, sharp_kernel)\n",
    "    return input_arr\n",
    "\n",
    "''' 3차원으로 만들어 테스트 - 패딩비트 추가, 가우시안-샤프닝 필터 적용'''\n",
    "answer = []\n",
    "for i in range(10):\n",
    "  if i == 0:\n",
    "    num_img = cv2.imread('handnumber/hand'+str(i)+'.png')\n",
    "    # num_img = cv2.imread('new_test/'+str(i)+'.png')\n",
    "    # num_img = cv2.imread('computerNumber/realNumber'+str(i)+'.png')\n",
    "    num_img = cv2.cvtColor( num_img, cv2.COLOR_BGR2GRAY)\n",
    "    plt.imshow(num_img)\n",
    "    plt.show()\n",
    "    print(num_img.shape)\n",
    "    input_img = paddingImage(num_img)\n",
    "    print(input_img.shape)\n",
    "    plt.imshow(input_img)\n",
    "    plt.show()\n",
    "    input_img = cv2.resize(num_img, (28,28))\n",
    "    input_img = Gausian_Sharp(input_img, 1)\n",
    "    plt.imshow(input_img)\n",
    "    plt.show()\n",
    "\n",
    "    input_img = input_img / 255.0  \n",
    "    \n",
    "    input_img = np.expand_dims(input_img, axis=0).reshape(-1,28,28,1)\n",
    "    answer.append(new2DModel.predict(input_img).argmax(axis=1)[0])\n",
    "print(answer)"
   ]
  },
  {
   "cell_type": "code",
   "execution_count": null,
   "metadata": {},
   "outputs": [],
   "source": []
  }
 ],
 "metadata": {
  "interpreter": {
   "hash": "dcacb0086e9a4f4eabd41c33bf4faac5ea0a3337ed3f5eff0680afa930572c04"
  },
  "kernelspec": {
   "display_name": "Python 3.9.6 64-bit",
   "language": "python",
   "name": "python3"
  },
  "language_info": {
   "codemirror_mode": {
    "name": "ipython",
    "version": 3
   },
   "file_extension": ".py",
   "mimetype": "text/x-python",
   "name": "python",
   "nbconvert_exporter": "python",
   "pygments_lexer": "ipython3",
   "version": "3.9.6"
  },
  "orig_nbformat": 4
 },
 "nbformat": 4,
 "nbformat_minor": 2
}
